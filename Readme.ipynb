{
  "nbformat": 4,
  "nbformat_minor": 0,
  "metadata": {
    "colab": {
      "provenance": [],
      "authorship_tag": "ABX9TyN9sRwijg3mkBb7bZQtc647",
      "include_colab_link": true
    },
    "kernelspec": {
      "name": "python3",
      "display_name": "Python 3"
    },
    "language_info": {
      "name": "python"
    }
  },
  "cells": [
    {
      "cell_type": "markdown",
      "metadata": {
        "id": "view-in-github",
        "colab_type": "text"
      },
      "source": [
        "<a href=\"https://colab.research.google.com/github/mio-mio/Quiz_Beginner/blob/main/Readme.ipynb\" target=\"_parent\"><img src=\"https://colab.research.google.com/assets/colab-badge.svg\" alt=\"Open In Colab\"/></a>"
      ]
    },
    {
      "cell_type": "markdown",
      "source": [
        "Welcome to Steganography quiz.\n",
        "\n",
        "1.    Welcome\n",
        "2.   Family Day Card\n",
        "\n",
        "Please enjoy the event until the very end.\n",
        "\n",
        "3.   リスト項目\n",
        "\n",
        "\n",
        "4.   Room Tour\n",
        "\n",
        "Welcome to our room tour.\n",
        "\n",
        "5.   Language Class\n"
      ],
      "metadata": {
        "id": "TJGNo82RIL-s"
      }
    },
    {
      "cell_type": "markdown",
      "source": [],
      "metadata": {
        "id": "xiHjm2fiIQKq"
      }
    }
  ]
}