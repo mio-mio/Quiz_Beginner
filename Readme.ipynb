{
  "nbformat": 4,
  "nbformat_minor": 0,
  "metadata": {
    "colab": {
      "provenance": [],
      "authorship_tag": "ABX9TyOULoPIv1DqYg+nyMqHWdbc",
      "include_colab_link": true
    },
    "kernelspec": {
      "name": "python3",
      "display_name": "Python 3"
    },
    "language_info": {
      "name": "python"
    }
  },
  "cells": [
    {
      "cell_type": "markdown",
      "metadata": {
        "id": "view-in-github",
        "colab_type": "text"
      },
      "source": [
        "<a href=\"https://colab.research.google.com/github/mio-mio/Quiz_Beginner/blob/main/Readme.ipynb\" target=\"_parent\"><img src=\"https://colab.research.google.com/assets/colab-badge.svg\" alt=\"Open In Colab\"/></a>"
      ]
    },
    {
      "cell_type": "markdown",
      "source": [
        "Welcome to Steganography quiz.  This is for beginners.\n",
        "\n",
        "1.  **Welcome**\n",
        "- Open the file.\n",
        "- File: [Welcome.png](https://github.com/mio-mio/Quiz_Beginner/blob/main/Welcome.png)\n",
        "\n",
        "2.  **Family Day Card**\n",
        "- Please enjoy the event until the very end.\n",
        "- File: [card.png](https://github.com/mio-mio/Quiz_Beginner/blob/main/card.png)\n",
        "\n",
        "\n",
        "3.   **Room Tour**\n",
        "- Welcome to our room tour.  Look closely without blinking.\n",
        "- File:[RoomTour.mp4](https://github.com/mio-mio/Quiz_Beginner/blob/main/RoomTour.mp4)\n",
        "\n",
        "4. **Better Days... Than Yesterday**\n",
        "- Someone embedded a *flag* related to Columbia inside this song file.\n",
        "- File: [BetterDaysThanYesterday.wav](https://github.com/mio-mio/Quiz_Beginner/blob/main/BetterDaysThanYesterday.wav)\n",
        "\n",
        "5.   **Language Class**\n",
        "-  Let's study new language.  Read details carefully.\n",
        "- File: [lang_class.mp4](https://github.com/mio-mio/Quiz_Beginner/blob/main/lang_class.mp4)\n",
        "\n",
        "\n",
        "*All flags follow the format FLAG{...} or FLAG_...."
      ],
      "metadata": {
        "id": "TJGNo82RIL-s"
      }
    },
    {
      "cell_type": "markdown",
      "source": [],
      "metadata": {
        "id": "xiHjm2fiIQKq"
      }
    }
  ]
}